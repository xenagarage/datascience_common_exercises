{
 "cells": [
  {
   "cell_type": "code",
   "execution_count": 1,
   "id": "02ca945a",
   "metadata": {},
   "outputs": [
    {
     "name": "stdout",
     "output_type": "stream",
     "text": [
      "[3, -1, -2]\n"
     ]
    }
   ],
   "source": [
    "# EX OF: sorted()\n",
    "print(sorted([-1,3,-2], reverse = True))"
   ]
  },
  {
   "cell_type": "code",
   "execution_count": 2,
   "id": "74b82ed5",
   "metadata": {},
   "outputs": [
    {
     "name": "stdout",
     "output_type": "stream",
     "text": [
      "[-2, -1, 3]\n"
     ]
    }
   ],
   "source": [
    "# it's in descending order because of reverse=True\n",
    "\n",
    "# normally sorted returns in ascending order BÜYÜKTEN KÜÇÜĞE\n",
    "print(sorted([-1,3,-2]))"
   ]
  },
  {
   "cell_type": "code",
   "execution_count": 3,
   "id": "bc3e7637",
   "metadata": {},
   "outputs": [
    {
     "name": "stdout",
     "output_type": "stream",
     "text": [
      "[[43.02, 57.89, 65.99], ['fes', 'ses', 'lola'], [1, 4, 7]]\n"
     ]
    }
   ],
   "source": [
    "# EX OF: printing multiple LISTS together\n",
    "\n",
    "a = [1, 4, 7]\n",
    "b = [43.02, 57.89, 65.99]\n",
    "c = ['fes', 'ses', 'lola']\n",
    "\n",
    "print([b,c,a])"
   ]
  },
  {
   "cell_type": "code",
   "execution_count": 13,
   "id": "e65790e5",
   "metadata": {},
   "outputs": [
    {
     "name": "stdout",
     "output_type": "stream",
     "text": [
      "['Introduction', 'Python', 'DataCamp', 'R']\n",
      "['Introduction', 'Python', 'DataCamp', 'R']\n"
     ]
    }
   ],
   "source": [
    "# EX\n",
    "\n",
    "practice = [\"Introduction\", \"Python\", \"DataCamp\", \"R\", \"SQL\", \"Data Science\"]\n",
    "print(practice[:-2])\n",
    "print(practice[-6:-2])"
   ]
  },
  {
   "cell_type": "code",
   "execution_count": 16,
   "id": "779b00e5",
   "metadata": {},
   "outputs": [
    {
     "name": "stdout",
     "output_type": "stream",
     "text": [
      "Collecting numpy\n",
      "  Downloading numpy-1.23.3-cp310-cp310-macosx_11_0_arm64.whl (13.3 MB)\n",
      "\u001b[2K     \u001b[90m━━━━━━━━━━━━━━━━━━━━━━━━━━━━━━━━━━━━━━━━\u001b[0m \u001b[32m13.3/13.3 MB\u001b[0m \u001b[31m7.5 MB/s\u001b[0m eta \u001b[36m0:00:00\u001b[0m00:01\u001b[0m00:01\u001b[0m\n",
      "\u001b[?25hInstalling collected packages: numpy\n",
      "Successfully installed numpy-1.23.3\n"
     ]
    }
   ],
   "source": [
    "!pip3 install numpy"
   ]
  },
  {
   "cell_type": "code",
   "execution_count": 19,
   "id": "9e6dbde8",
   "metadata": {},
   "outputs": [
    {
     "name": "stdout",
     "output_type": "stream",
     "text": [
      "6\n",
      "(3, 2)\n"
     ]
    }
   ],
   "source": [
    "\n",
    "import numpy as np\n",
    "numbers = [[50, 3],[21, 15],[32, 80]]\n",
    "np_array = np.array(numbers)\n",
    "print(np_array.size)\n",
    "print(np_array.shape)"
   ]
  },
  {
   "cell_type": "code",
   "execution_count": null,
   "id": "4b57aaf7",
   "metadata": {},
   "outputs": [],
   "source": []
  }
 ],
 "metadata": {
  "kernelspec": {
   "display_name": "Python 3 (ipykernel)",
   "language": "python",
   "name": "python3"
  },
  "language_info": {
   "codemirror_mode": {
    "name": "ipython",
    "version": 3
   },
   "file_extension": ".py",
   "mimetype": "text/x-python",
   "name": "python",
   "nbconvert_exporter": "python",
   "pygments_lexer": "ipython3",
   "version": "3.10.7"
  }
 },
 "nbformat": 4,
 "nbformat_minor": 5
}
