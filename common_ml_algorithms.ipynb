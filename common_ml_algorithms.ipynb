{
 "cells": [
  {
   "cell_type": "code",
   "execution_count": 1,
   "id": "863ccb8d",
   "metadata": {},
   "outputs": [],
   "source": [
    "# SVM\n",
    "# KNN\n",
    "# Decision Trees & Random Forests\n",
    "# Linear and Logistic Regression\n",
    "# Linear Classification\n",
    "# K Means Clustering\n",
    "# Dimensionality Reduction with PCA "
   ]
  },
  {
   "cell_type": "code",
   "execution_count": null,
   "id": "61f8da88",
   "metadata": {},
   "outputs": [],
   "source": []
  }
 ],
 "metadata": {
  "kernelspec": {
   "display_name": "Python 3 (ipykernel)",
   "language": "python",
   "name": "python3"
  },
  "language_info": {
   "codemirror_mode": {
    "name": "ipython",
    "version": 3
   },
   "file_extension": ".py",
   "mimetype": "text/x-python",
   "name": "python",
   "nbconvert_exporter": "python",
   "pygments_lexer": "ipython3",
   "version": "3.10.7"
  }
 },
 "nbformat": 4,
 "nbformat_minor": 5
}
